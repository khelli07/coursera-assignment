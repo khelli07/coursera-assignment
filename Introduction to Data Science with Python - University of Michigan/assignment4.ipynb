{
 "cells": [
  {
   "cell_type": "markdown",
   "metadata": {
    "deletable": false,
    "editable": false,
    "nbgrader": {
     "checksum": "48770f8b5f5d3062d3badd51fcafc401",
     "grade": false,
     "grade_id": "cell-a6c4f74309fc2379",
     "locked": true,
     "schema_version": 1,
     "solution": false
    }
   },
   "source": [
    "# Assignment 4\n",
    "## Description\n",
    "In this assignment you must read in a file of metropolitan regions and associated sports teams from [assets/wikipedia_data.html](assets/wikipedia_data.html) and answer some questions about each metropolitan region. Each of these regions may have one or more teams from the \"Big 4\": NFL (football, in [assets/nfl.csv](assets/nfl.csv)), MLB (baseball, in [assets/mlb.csv](assets/mlb.csv)), NBA (basketball, in [assets/nba.csv](assets/nba.csv) or NHL (hockey, in [assets/nhl.csv](assets/nhl.csv)). Please keep in mind that all questions are from the perspective of the metropolitan region, and that this file is the \"source of authority\" for the location of a given sports team. Thus teams which are commonly known by a different area (e.g. \"Oakland Raiders\") need to be mapped into the metropolitan region given (e.g. San Francisco Bay Area). This will require some human data understanding outside of the data you've been given (e.g. you will have to hand-code some names, and might need to google to find out where teams are)!\n",
    "\n",
    "For each sport I would like you to answer the question: **what is the win/loss ratio's correlation with the population of the city it is in?** Win/Loss ratio refers to the number of wins over the number of wins plus the number of losses. Remember that to calculate the correlation with [`pearsonr`](https://docs.scipy.org/doc/scipy/reference/generated/scipy.stats.pearsonr.html), so you are going to send in two ordered lists of values, the populations from the wikipedia_data.html file and the win/loss ratio for a given sport in the same order. Average the win/loss ratios for those cities which have multiple teams of a single sport. Each sport is worth an equal amount in this assignment (20%\\*4=80%) of the grade for this assignment. You should only use data **from year 2018** for your analysis -- this is important!\n",
    "\n",
    "## Notes\n",
    "\n",
    "1. Do not include data about the MLS or CFL in any of the work you are doing, we're only interested in the Big 4 in this assignment.\n",
    "2. I highly suggest that you first tackle the four correlation questions in order, as they are all similar and worth the majority of grades for this assignment. This is by design!\n",
    "3. It's fair game to talk with peers about high level strategy as well as the relationship between metropolitan areas and sports teams. However, do not post code solving aspects of the assignment (including such as dictionaries mapping areas to teams, or regexes which will clean up names).\n",
    "4. There may be more teams than the assert statements test, remember to collapse multiple teams in one city into a single value!"
   ]
  },
  {
   "cell_type": "markdown",
   "metadata": {
    "deletable": false,
    "editable": false,
    "nbgrader": {
     "checksum": "369ff9ecf0ee04640574205cbc697f94",
     "grade": false,
     "grade_id": "cell-712b2b5da63d4505",
     "locked": true,
     "schema_version": 1,
     "solution": false
    }
   },
   "source": [
    "## Question 1\n",
    "For this question, calculate the win/loss ratio's correlation with the population of the city it is in for the **NHL** using **2018** data."
   ]
  },
  {
   "cell_type": "code",
   "execution_count": 1,
   "metadata": {},
   "outputs": [],
   "source": [
    "# GLOBAL VARIABLE\n",
    "import pandas as pd\n",
    "import numpy as np\n",
    "import scipy.stats as stats\n",
    "import re\n",
    "    \n",
    "cities=pd.read_html(\"assets/wikipedia_data.html\")[1]\n",
    "cities=cities.iloc[:-1,[0,3,5,6,7,8]]\n",
    "    \n",
    "cities['Population (2016 est.)[8]'] = pd.to_numeric(cities['Population (2016 est.)[8]'])\n",
    "populationMap = (cities[['Metropolitan area', 'Population (2016 est.)[8]']]\n",
    " .set_index('Metropolitan area')\n",
    " .to_dict()['Population (2016 est.)[8]'])"
   ]
  },
  {
   "cell_type": "code",
   "execution_count": 2,
   "metadata": {},
   "outputs": [],
   "source": [
    "# Check whether any teamToCityMap is incomplete\n",
    "# for cmp in compe_list:\n",
    "#     if cmp not in set(teamToCityMap.keys()):\n",
    "#         print(cmp)"
   ]
  },
  {
   "cell_type": "code",
   "execution_count": 3,
   "metadata": {
    "deletable": false,
    "nbgrader": {
     "checksum": "1cac4803b02502929f5b1612d48db2b5",
     "grade": false,
     "grade_id": "cell-69b16e4386e58030",
     "locked": false,
     "schema_version": 1,
     "solution": true
    }
   },
   "outputs": [],
   "source": [
    "def nhl():\n",
    "    nhl_df=pd.read_csv(\"assets/nhl.csv\")\n",
    "    cities=pd.read_html(\"assets/wikipedia_data.html\")[1]\n",
    "    cities=cities.iloc[:-1,[0,3,5,6,7,8]]\n",
    "\n",
    "    df = nhl_df.copy()\n",
    "    comp = 'NHL'\n",
    "    df = df[df['year'] == 2018]\n",
    "    df = df[df['year'] == 2018]\n",
    "    cities[comp] = cities[comp].apply(lambda x: re.sub(r'\\d+|\\*|\\[[^)]*\\]|—', '', x))\n",
    "    cities[comp] = cities[comp].apply(lambda x: x.strip())\n",
    "    team_list = [team for team in cities[comp].unique() if team != '']\n",
    "\n",
    "    df['team'] = df['team'].apply(lambda x: re.sub(r'\\d+|\\*|\\[[^)]*\\]|—', '', x))\n",
    "    df['team'] = df['team'].apply(lambda x: x.strip())\n",
    "    compe_list = [team for team in df['team'].unique() if team != '']\n",
    "\n",
    "    teamMap = {}\n",
    "    for team in team_list:\n",
    "        for cmp in compe_list:\n",
    "            if team in cmp:\n",
    "                teamMap.update({cmp: team})\n",
    "\n",
    "    cityMap = {}\n",
    "    for i in range(cities.shape[0]):\n",
    "        if (cities[comp].loc[i] != ''):\n",
    "            cityMap.update({cities[comp].loc[i]: cities['Metropolitan area'].loc[i]})\n",
    "\n",
    "    indexes = []\n",
    "    for i in range(df.shape[0]):\n",
    "        if not('Division' in df['team'].loc[i]):\n",
    "            indexes.append(i)\n",
    "    df = df.loc[indexes]\n",
    "\n",
    "    df['W'] = pd.to_numeric(df['W'])\n",
    "    df['L'] = pd.to_numeric(df['L'])\n",
    "\n",
    "    teamToCityMap = {}\n",
    "    for key, values in teamMap.items():\n",
    "        teamToCityMap.update({key: cityMap[values]})\n",
    "\n",
    "    teamToCityMap.update({'New York Islanders': 'New York City'})\n",
    "    teamToCityMap.update({'New York Rangers': 'New York City'})\n",
    "    teamToCityMap.update({'New Jersey Devils': 'New York City'})\n",
    "    teamToCityMap.update({'Los Angeles Kings': 'Los Angeles'})\n",
    "    teamToCityMap.update({'Anaheim Ducks':'Los Angeles'})\n",
    "\n",
    "    cities['Population (2016 est.)[8]'] = pd.to_numeric(cities['Population (2016 est.)[8]'])\n",
    "    populationMap = (cities[['Metropolitan area', 'Population (2016 est.)[8]']]\n",
    "     .set_index('Metropolitan area')\n",
    "     .to_dict()['Population (2016 est.)[8]'])\n",
    "\n",
    "    proc_df = df.copy()\n",
    "    proc_df['city'] = proc_df['team'].map(teamToCityMap)\n",
    "    proc_df['pops'] = proc_df['city'].map(populationMap)\n",
    "    proc_df = proc_df.groupby('city').sum()\n",
    "    proc_df['W/L'] = proc_df['W'] / (proc_df['W']+proc_df['L'])\n",
    "    proc_df = proc_df.reset_index()[['city', 'pops', 'W/L']]\n",
    "\n",
    "    return proc_df\n",
    "\n",
    "def nhl_correlation(): \n",
    "    proc_df = nhl()\n",
    "    WLMap = proc_df[['city', 'W/L']].set_index('city').to_dict()['W/L']\n",
    "    \n",
    "    population_by_region = [] # pass in metropolitan area population from cities\n",
    "    win_loss_by_region = [] # pass in win/loss ratio from nhl_df in the same order as cities[\"Metropolitan area\"]\n",
    "    for key in populationMap.keys():\n",
    "        if key in proc_df['city'].unique():\n",
    "            population_by_region.append(populationMap[key])\n",
    "            win_loss_by_region.append(WLMap[key])\n",
    "    \n",
    "    assert len(population_by_region) == len(win_loss_by_region), \"Q1: Your lists must be the same length\"\n",
    "    assert len(population_by_region) == 28, \"Q1: There should be 28 teams being analysed for NHL\"\n",
    "    \n",
    "    return stats.pearsonr(population_by_region, win_loss_by_region)[0]"
   ]
  },
  {
   "cell_type": "code",
   "execution_count": 4,
   "metadata": {},
   "outputs": [
    {
     "data": {
      "text/plain": [
       "0.012308996455744285"
      ]
     },
     "execution_count": 4,
     "metadata": {},
     "output_type": "execute_result"
    }
   ],
   "source": [
    "nhl_correlation()"
   ]
  },
  {
   "cell_type": "code",
   "execution_count": null,
   "metadata": {
    "deletable": false,
    "editable": false,
    "nbgrader": {
     "checksum": "52a581df513c71153e105b93764cda4b",
     "grade": true,
     "grade_id": "cell-ebe0b2dfe1067e63",
     "locked": true,
     "points": 20,
     "schema_version": 1,
     "solution": false
    }
   },
   "outputs": [],
   "source": []
  },
  {
   "cell_type": "markdown",
   "metadata": {
    "deletable": false,
    "editable": false,
    "nbgrader": {
     "checksum": "988912cae4968d81473f46d783e79c16",
     "grade": false,
     "grade_id": "cell-cb964e690298b71d",
     "locked": true,
     "schema_version": 1,
     "solution": false
    }
   },
   "source": [
    "## Question 2\n",
    "For this question, calculate the win/loss ratio's correlation with the population of the city it is in for the **NBA** using **2018** data."
   ]
  },
  {
   "cell_type": "code",
   "execution_count": 5,
   "metadata": {
    "deletable": false,
    "nbgrader": {
     "checksum": "9394222aafc8ccab0a228098ba0d6010",
     "grade": false,
     "grade_id": "cell-5a5f21279e3d3572",
     "locked": false,
     "schema_version": 1,
     "solution": true
    }
   },
   "outputs": [],
   "source": [
    "def nba():\n",
    "    nba_df=pd.read_csv(\"assets/nba.csv\")\n",
    "    cities=pd.read_html(\"assets/wikipedia_data.html\")[1]\n",
    "    cities=cities.iloc[:-1,[0,3,5,6,7,8]]\n",
    "\n",
    "    df = nba_df.copy()\n",
    "    comp = 'NBA'\n",
    "    df = df[df['year'] == 2018]\n",
    "    cities[comp] = cities[comp].apply(lambda x: re.sub(r'\\d+|\\*|\\[[^)]*\\]|—', '', x))\n",
    "    cities[comp] = cities[comp].apply(lambda x: x.strip())\n",
    "    team_list = [team for team in cities[comp].unique() if team != '']\n",
    "\n",
    "    df['team'] = df['team'].apply(lambda x: re.sub(r'\\d+|\\*|\\([^)]*\\)|—', '', x))\n",
    "    df['team'] = df['team'].apply(lambda x: x.strip())\n",
    "    comp_list = [team for team in df['team'].unique() if team != '']\n",
    "\n",
    "    teamMap = {}\n",
    "    for team in team_list:\n",
    "        for cmp in comp_list:\n",
    "            if team in cmp:\n",
    "                teamMap.update({cmp: team})\n",
    "\n",
    "    cityMap = {}\n",
    "    for i in range(cities.shape[0]):\n",
    "        if (cities[comp].loc[i] != ''):\n",
    "            cityMap.update({cities[comp].loc[i]: cities['Metropolitan area'].loc[i]})\n",
    "\n",
    "    indexes = []\n",
    "    for i in range(df.shape[0]):\n",
    "        if not('Division' in df['team'].loc[i]):\n",
    "            indexes.append(i)\n",
    "    df = df.loc[indexes]\n",
    "\n",
    "    df['W'] = pd.to_numeric(df['W'])\n",
    "    df['L'] = pd.to_numeric(df['L'])\n",
    "\n",
    "    teamToCityMap = {}\n",
    "    for key, values in teamMap.items():\n",
    "        teamToCityMap.update({key: cityMap[values]})\n",
    "\n",
    "    teamToCityMap.update({\"New York Knicks\": \"New York City\"})\n",
    "    teamToCityMap.update({\"Brooklyn Nets\": \"New York City\"})\n",
    "    teamToCityMap['Los Angeles Clippers'] = 'Los Angeles'\n",
    "    teamToCityMap['Los Angeles Lakers'] = 'Los Angeles'\n",
    "\n",
    "    cities['Population (2016 est.)[8]'] = pd.to_numeric(cities['Population (2016 est.)[8]'])\n",
    "    populationMap = (cities[['Metropolitan area', 'Population (2016 est.)[8]']]\n",
    "     .set_index('Metropolitan area')\n",
    "     .to_dict()['Population (2016 est.)[8]'])\n",
    "\n",
    "    proc_df = df.copy()\n",
    "    proc_df['city'] = proc_df['team'].map(teamToCityMap)\n",
    "    proc_df['pops'] = proc_df['city'].map(populationMap)\n",
    "    proc_df = proc_df.groupby('city').sum()\n",
    "    proc_df['W/L'] = proc_df['W'] / (proc_df['W']+proc_df['L'])\n",
    "    proc_df = proc_df.reset_index()[['city', 'pops', 'W/L']]\n",
    "    \n",
    "    return proc_df\n",
    "\n",
    "def nba_correlation():\n",
    "    proc_df = nba()\n",
    "    WLMap = proc_df[['city', 'W/L']].set_index('city').to_dict()['W/L']\n",
    "\n",
    "    population_by_region = [] # pass in metropolitan area population from cities\n",
    "    win_loss_by_region = [] # pass in win/loss ratio from nhl_df in the same order as cities[\"Metropolitan area\"]\n",
    "    for key in populationMap.keys():\n",
    "        if key in proc_df['city'].unique():\n",
    "            population_by_region.append(populationMap[key])\n",
    "            win_loss_by_region.append(WLMap[key])\n",
    "\n",
    "    stats.pearsonr(population_by_region, win_loss_by_region)[0]\n",
    "    assert len(population_by_region) == len(win_loss_by_region), \"Q2: Your lists must be the same length\"\n",
    "    assert len(population_by_region) == 28, \"Q2: There should be 28 teams being analysed for NBA\"\n",
    "\n",
    "    return stats.pearsonr(population_by_region, win_loss_by_region)[0]"
   ]
  },
  {
   "cell_type": "code",
   "execution_count": 6,
   "metadata": {},
   "outputs": [
    {
     "data": {
      "text/plain": [
       "-0.1765716025284462"
      ]
     },
     "execution_count": 6,
     "metadata": {},
     "output_type": "execute_result"
    }
   ],
   "source": [
    "nba_correlation()"
   ]
  },
  {
   "cell_type": "code",
   "execution_count": null,
   "metadata": {
    "deletable": false,
    "editable": false,
    "nbgrader": {
     "checksum": "bbdeb8eb22f525a34c10dc8798324e42",
     "grade": true,
     "grade_id": "cell-e573b2b4a282b470",
     "locked": true,
     "points": 20,
     "schema_version": 1,
     "solution": false
    }
   },
   "outputs": [],
   "source": []
  },
  {
   "cell_type": "markdown",
   "metadata": {
    "deletable": false,
    "editable": false,
    "nbgrader": {
     "checksum": "1a1a5809f675ca033086422007cd73bd",
     "grade": false,
     "grade_id": "cell-96e15e4335df78f4",
     "locked": true,
     "schema_version": 1,
     "solution": false
    }
   },
   "source": [
    "## Question 3\n",
    "For this question, calculate the win/loss ratio's correlation with the population of the city it is in for the **MLB** using **2018** data."
   ]
  },
  {
   "cell_type": "code",
   "execution_count": 7,
   "metadata": {
    "deletable": false,
    "nbgrader": {
     "checksum": "27e8c0da6c9fa0dffc10488314335b6c",
     "grade": false,
     "grade_id": "cell-33b00fc3f3467b0c",
     "locked": false,
     "schema_version": 1,
     "solution": true
    }
   },
   "outputs": [],
   "source": [
    "def mlb():\n",
    "    mlb_df=pd.read_csv(\"assets/mlb.csv\")\n",
    "    cities=pd.read_html(\"assets/wikipedia_data.html\")[1]\n",
    "    cities=cities.iloc[:-1,[0,3,5,6,7,8]]\n",
    "\n",
    "    df = mlb_df.copy()\n",
    "    comp = 'MLB'\n",
    "    df = df[df['year'] == 2018]\n",
    "    cities[comp] = cities[comp].apply(lambda x: re.sub(r'\\d+|\\*|\\[[^)]*\\]|—', '', x))\n",
    "    cities[comp] = cities[comp].apply(lambda x: x.strip())\n",
    "    team_list = [team for team in cities[comp].unique() if team != '']\n",
    "\n",
    "    df['team'] = df['team'].apply(lambda x: re.sub(r'\\d+|\\*|\\([^)]*\\)|—', '', x))\n",
    "    df['team'] = df['team'].apply(lambda x: x.strip())\n",
    "    compe_list = [team for team in df['team'].unique() if team != '']\n",
    "\n",
    "    teamMap = {}\n",
    "    for team in team_list:\n",
    "        for cmp in compe_list:\n",
    "            if team in cmp:\n",
    "                teamMap.update({cmp: team})\n",
    "\n",
    "    cityMap = {}\n",
    "    for i in range(cities.shape[0]):\n",
    "        if (cities[comp].loc[i] != ''):\n",
    "            cityMap.update({cities[comp].loc[i]: cities['Metropolitan area'].loc[i]})\n",
    "\n",
    "    indexes = []\n",
    "    for i in range(df.shape[0]):\n",
    "        if not('Division' in df['team'].loc[i]):\n",
    "            indexes.append(i)\n",
    "    df = df.loc[indexes]\n",
    "\n",
    "    df['W'] = pd.to_numeric(df['W'])\n",
    "    df['L'] = pd.to_numeric(df['L'])\n",
    "\n",
    "    teamToCityMap = {}\n",
    "    for key, values in teamMap.items():\n",
    "        teamToCityMap.update({key: cityMap[values]})\n",
    "\n",
    "    teamToCityMap.update({'New York Yankees': 'New York City'})\n",
    "    teamToCityMap.update({'Chicago White Sox': 'Chicago'})\n",
    "    teamToCityMap.update({'Oakland Athletics': 'San Francisco Bay Area'})\n",
    "    teamToCityMap.update({'Los Angeles Angels': 'Los Angeles'})\n",
    "    teamToCityMap.update({'New York Mets': 'New York City'})\n",
    "    teamToCityMap.update({'Chicago Cubs': 'Chicago'})\n",
    "    teamToCityMap.update({'Los Angeles Dodgers': 'Los Angeles'})\n",
    "    teamToCityMap.update({'San Francisco Giants': 'San Francisco Bay Area'})\n",
    "\n",
    "    cities['Population (2016 est.)[8]'] = pd.to_numeric(cities['Population (2016 est.)[8]'])\n",
    "    populationMap = (cities[['Metropolitan area', 'Population (2016 est.)[8]']]\n",
    "     .set_index('Metropolitan area')\n",
    "     .to_dict()['Population (2016 est.)[8]'])\n",
    "\n",
    "    proc_df = df.copy()\n",
    "    proc_df['city'] = proc_df['team'].map(teamToCityMap)\n",
    "    proc_df['pops'] = proc_df['city'].map(populationMap)\n",
    "    proc_df = proc_df.groupby('city').sum()\n",
    "    proc_df['W/L'] = proc_df['W'] / (proc_df['W']+proc_df['L'])\n",
    "    proc_df = proc_df.reset_index()[['city', 'pops', 'W/L']]\n",
    "    \n",
    "    return proc_df\n",
    "\n",
    "def mlb_correlation(): \n",
    "    proc_df = mlb()\n",
    "    WLMap = proc_df[['city', 'W/L']].set_index('city').to_dict()['W/L']\n",
    "\n",
    "    population_by_region = [] # pass in metropolitan area population from cities\n",
    "    win_loss_by_region = [] # pass in win/loss ratio from nhl_df in the same order as cities[\"Metropolitan area\"]\n",
    "    for key in populationMap.keys():\n",
    "        if key in proc_df['city'].unique():\n",
    "            population_by_region.append(populationMap[key])\n",
    "            win_loss_by_region.append(WLMap[key])\n",
    "        \n",
    "    assert len(population_by_region) == len(win_loss_by_region), \"Q3: Your lists must be the same length\"\n",
    "    assert len(population_by_region) == 26, \"Q3: There should be 26 teams being analysed for MLB\"\n",
    "\n",
    "    return stats.pearsonr(population_by_region, win_loss_by_region)[0]"
   ]
  },
  {
   "cell_type": "code",
   "execution_count": 8,
   "metadata": {},
   "outputs": [
    {
     "data": {
      "text/plain": [
       "0.1505230448710485"
      ]
     },
     "execution_count": 8,
     "metadata": {},
     "output_type": "execute_result"
    }
   ],
   "source": [
    "mlb_correlation()"
   ]
  },
  {
   "cell_type": "code",
   "execution_count": null,
   "metadata": {
    "deletable": false,
    "editable": false,
    "nbgrader": {
     "checksum": "cda33b094ba19ccc37a481e0dd29e0bc",
     "grade": true,
     "grade_id": "cell-764d4476f425c5a2",
     "locked": true,
     "points": 20,
     "schema_version": 1,
     "solution": false
    }
   },
   "outputs": [],
   "source": []
  },
  {
   "cell_type": "markdown",
   "metadata": {
    "deletable": false,
    "editable": false,
    "nbgrader": {
     "checksum": "6977a6da9ed6d8b7a0b7e37bbeda709b",
     "grade": false,
     "grade_id": "cell-793df6c04dfb126e",
     "locked": true,
     "schema_version": 1,
     "solution": false
    }
   },
   "source": [
    "## Question 4\n",
    "For this question, calculate the win/loss ratio's correlation with the population of the city it is in for the **NFL** using **2018** data."
   ]
  },
  {
   "cell_type": "code",
   "execution_count": 9,
   "metadata": {
    "deletable": false,
    "nbgrader": {
     "checksum": "c4914ad1e119278ec2bd567c52640b66",
     "grade": false,
     "grade_id": "cell-8ccebc209aeec8d9",
     "locked": false,
     "schema_version": 1,
     "solution": true
    }
   },
   "outputs": [],
   "source": [
    "def nfl():\n",
    "    import pandas as pd\n",
    "    import numpy as np\n",
    "    import scipy.stats as stats\n",
    "    import re\n",
    "    \n",
    "    nfl_df=pd.read_csv(\"assets/nfl.csv\")\n",
    "    cities=pd.read_html(\"assets/wikipedia_data.html\")[1]\n",
    "    cities=cities.iloc[:-1,[0,3,5,6,7,8]]\n",
    "\n",
    "    df = nfl_df.copy()\n",
    "    comp = 'NFL'\n",
    "    df = df[df['year'] == 2018]\n",
    "    cities[comp] = cities[comp].apply(lambda x: re.sub(r'\\d+|\\*|\\[[^)]*\\]|—', '', x))\n",
    "    cities[comp] = cities[comp].apply(lambda x: x.strip())\n",
    "    team_list = [team for team in cities[comp].unique() if team != '']\n",
    "\n",
    "    df['team'] = df['team'].apply(lambda x: re.sub(r'\\d+|[\\+\\*]|\\([^)]*\\)', '', x))\n",
    "    df['team'] = df['team'].apply(lambda x: x.strip())\n",
    "    compe_list = [team for team in df['team'].unique() if team != '']\n",
    "\n",
    "    teamMap = {}\n",
    "    for team in team_list:\n",
    "        for cmp in compe_list:\n",
    "            if team in cmp:\n",
    "                teamMap.update({cmp: team})\n",
    "\n",
    "    cityMap = {}\n",
    "    for i in range(cities.shape[0]):\n",
    "        if (cities[comp].loc[i] != ''):\n",
    "            cityMap.update({cities[comp].loc[i]: cities['Metropolitan area'].loc[i]})\n",
    "\n",
    "    indexes = []\n",
    "    for i in range(df.shape[0]):\n",
    "        if not('AFC' in df['team'].loc[i]) and not('NFC' in df['team'].loc[i]):\n",
    "            indexes.append(i)\n",
    "    df = df.loc[indexes]\n",
    "\n",
    "    df['W'] = pd.to_numeric(df['W'])\n",
    "    df['L'] = pd.to_numeric(df['L'])\n",
    "\n",
    "    teamToCityMap = {}\n",
    "    for key, values in teamMap.items():\n",
    "        teamToCityMap.update({key: cityMap[values]})\n",
    "\n",
    "    teamToCityMap.update({'New York Jets': 'New York City'})\n",
    "    teamToCityMap.update({'Los Angeles Chargers': 'Los Angeles'})\n",
    "    teamToCityMap.update({'Oakland Raiders': 'San Francisco Bay Area'})\n",
    "    teamToCityMap.update({'New York Giants': 'New York City'})\n",
    "    teamToCityMap.update({'Los Angeles Rams': 'Los Angeles'})\n",
    "    teamToCityMap.update({'San Francisco ers': 'San Francisco Bay Area'})\n",
    "\n",
    "    proc_df = df.copy()\n",
    "    proc_df['city'] = proc_df['team'].map(teamToCityMap)\n",
    "    proc_df['pops'] = proc_df['city'].map(populationMap)\n",
    "    proc_df = proc_df.groupby('city').sum()\n",
    "    proc_df['W/L'] = proc_df['W'] / (proc_df['W']+proc_df['L'])\n",
    "    proc_df = proc_df.reset_index()[['city', 'pops', 'W/L']]\n",
    "    \n",
    "    return proc_df\n",
    "\n",
    "def nfl_correlation(): \n",
    "    proc_df = nfl()\n",
    "    WLMap = proc_df[['city', 'W/L']].set_index('city').to_dict()['W/L']\n",
    "\n",
    "    population_by_region = [] # pass in metropolitan area population from cities\n",
    "    win_loss_by_region = [] # pass in win/loss ratio from nhl_df in the same order as cities[\"Metropolitan area\"]\n",
    "    for key in populationMap.keys():\n",
    "        if key in proc_df['city'].unique():\n",
    "            population_by_region.append(populationMap[key])\n",
    "            win_loss_by_region.append(WLMap[key])\n",
    "\n",
    "    stats.pearsonr(population_by_region, win_loss_by_region)[0]\n",
    "\n",
    "    assert len(population_by_region) == len(win_loss_by_region), \"Q4: Your lists must be the same length\"\n",
    "    assert len(population_by_region) == 29, \"Q4: There should be 29 teams being analysed for NFL\"\n",
    "\n",
    "    return stats.pearsonr(population_by_region, win_loss_by_region)[0]"
   ]
  },
  {
   "cell_type": "code",
   "execution_count": 10,
   "metadata": {},
   "outputs": [
    {
     "data": {
      "text/plain": [
       "0.004922112149349386"
      ]
     },
     "execution_count": 10,
     "metadata": {},
     "output_type": "execute_result"
    }
   ],
   "source": [
    "nfl_correlation()"
   ]
  },
  {
   "cell_type": "code",
   "execution_count": null,
   "metadata": {
    "deletable": false,
    "editable": false,
    "nbgrader": {
     "checksum": "e9415d6399aa49e3a1a60813afdefa3b",
     "grade": true,
     "grade_id": "cell-de7b148b9554dbda",
     "locked": true,
     "points": 20,
     "schema_version": 1,
     "solution": false
    }
   },
   "outputs": [],
   "source": []
  },
  {
   "cell_type": "markdown",
   "metadata": {
    "deletable": false,
    "editable": false,
    "nbgrader": {
     "checksum": "b02d5cd3273f561e4ae939bb2a41740c",
     "grade": false,
     "grade_id": "cell-97b49d8639e908c4",
     "locked": true,
     "schema_version": 1,
     "solution": false
    }
   },
   "source": [
    "## Question 5\n",
    "In this question I would like you to explore the hypothesis that **given that an area has two sports teams in different sports, those teams will perform the same within their respective sports**. How I would like to see this explored is with a series of paired t-tests (so use [`ttest_rel`](https://docs.scipy.org/doc/scipy/reference/generated/scipy.stats.ttest_rel.html)) between all pairs of sports. Are there any sports where we can reject the null hypothesis? Again, average values where a sport has multiple teams in one region. Remember, you will only be including, for each sport, cities which have teams engaged in that sport, drop others as appropriate. This question is worth 20% of the grade for this assignment."
   ]
  },
  {
   "cell_type": "code",
   "execution_count": 11,
   "metadata": {
    "deletable": false,
    "nbgrader": {
     "checksum": "6d78c961eb66f8d8c81f06d33ae8f393",
     "grade": false,
     "grade_id": "cell-92f25f44b8d1179f",
     "locked": false,
     "schema_version": 1,
     "solution": true
    }
   },
   "outputs": [],
   "source": [
    "import pandas as pd\n",
    "import numpy as np\n",
    "import scipy.stats as stats\n",
    "import re\n",
    "\n",
    "mlb_df=pd.read_csv(\"assets/mlb.csv\")\n",
    "nhl_df=pd.read_csv(\"assets/nhl.csv\")\n",
    "nba_df=pd.read_csv(\"assets/nba.csv\")\n",
    "nfl_df=pd.read_csv(\"assets/nfl.csv\")\n",
    "cities=pd.read_html(\"assets/wikipedia_data.html\")[1]\n",
    "cities=cities.iloc[:-1,[0,3,5,6,7,8]]\n",
    "\n",
    "def sports_team_performance():\n",
    "    nhl_proc = nhl()\n",
    "    nba_proc = nba()\n",
    "    nfl_proc = nfl()\n",
    "    mlb_proc = mlb()\n",
    "\n",
    "    sports = ['NFL', 'NBA', 'NHL', 'MLB']\n",
    "    p_values = pd.DataFrame({k:np.nan for k in sports}, index=sports)\n",
    "\n",
    "    def pval(df1, df2, col1, col2, pval_df):\n",
    "        dfmerge = pd.merge(df1, df2, on='city')\n",
    "        pval_df.loc[col1, col2] = stats.ttest_rel(dfmerge['W/L_x'], dfmerge['W/L_y'])[1]\n",
    "        pval_df.loc[col2, col1] = pval_df.loc[col1, col2]\n",
    "\n",
    "    pval(nba_proc, nhl_proc, 'NBA', 'NHL', p_values)\n",
    "    pval(nba_proc, nfl_proc, 'NBA', 'NFL', p_values)\n",
    "    pval(nba_proc, mlb_proc, 'NBA', 'MLB', p_values)\n",
    "    pval(nhl_proc, nfl_proc, 'NHL', 'NFL', p_values)\n",
    "    pval(nhl_proc, mlb_proc, 'NHL', 'MLB', p_values)\n",
    "    pval(nfl_proc, mlb_proc, 'NFL', 'MLB', p_values)\n",
    "    \n",
    "    assert abs(p_values.loc[\"NBA\", \"NHL\"] - 0.02) <= 1e-2, \"The NBA-NHL p-value should be around 0.02\"\n",
    "    assert abs(p_values.loc[\"MLB\", \"NFL\"] - 0.80) <= 1e-2, \"The MLB-NFL p-value should be around 0.80\"\n",
    "    return p_values"
   ]
  },
  {
   "cell_type": "code",
   "execution_count": null,
   "metadata": {
    "deletable": false,
    "editable": false,
    "nbgrader": {
     "checksum": "2a596ab421a45cc01168d10e8fbb8f89",
     "grade": true,
     "grade_id": "cell-fb4b9cb5ff4570a6",
     "locked": true,
     "points": 20,
     "schema_version": 1,
     "solution": false
    }
   },
   "outputs": [],
   "source": []
  }
 ],
 "metadata": {
  "coursera": {
   "schema_names": [
    "mooc_adswpy_1_v2_assignment4"
   ]
  },
  "kernelspec": {
   "display_name": "Python 3",
   "language": "python",
   "name": "python3"
  },
  "language_info": {
   "codemirror_mode": {
    "name": "ipython",
    "version": 3
   },
   "file_extension": ".py",
   "mimetype": "text/x-python",
   "name": "python",
   "nbconvert_exporter": "python",
   "pygments_lexer": "ipython3",
   "version": "3.7.3"
  }
 },
 "nbformat": 4,
 "nbformat_minor": 4
}
